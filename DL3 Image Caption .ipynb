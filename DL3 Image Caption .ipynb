{
 "cells": [
  {
   "cell_type": "markdown",
   "id": "4d3b4991",
   "metadata": {},
   "source": [
    "## 1. Importeren van benodigde bibliotheken\n",
    "\n",
    "In deze stap worden alle benodigde bibliotheken ingeladen die essentieel zijn voor het bouwen, trainen en evalueren van een image captioning-model.\n",
    "\n",
    "We gebruiken:\n",
    "- huggingface_hub en getpass voor veilige toegang tot modellen en datasets via Hugging Face\n",
    "- datasets om kant-en-klare image-text datasets zoals H&M Captions in te laden\n",
    "- torchvision en PIL voor het transformeren en visualiseren van afbeeldingsdata\n",
    "- transformers om het ViT-GPT2 encoder-decoder model te gebruiken\n",
    "- torch en DataLoader om met batches te trainen en het model efficiënt te verwerken\n",
    "- evaluate voor de berekening van evaluatiemetrieken zoals BLEU-score\n",
    "- tqdm voor een overzichtelijke voortgangsbalk tijdens training\n",
    "- matplotlib en random voor het tonen en willekeurig selecteren van afbeeldingen"
   ]
  },
  {
   "cell_type": "code",
   "execution_count": null,
   "id": "dbc31651",
   "metadata": {},
   "outputs": [],
   "source": [
    "# Imports\n",
    "from huggingface_hub import login\n",
    "import getpass\n",
    "from datasets import load_dataset\n",
    "from torchvision import transforms\n",
    "from transformers import VisionEncoderDecoderModel, ViTImageProcessor, AutoTokenizer\n",
    "from torch.utils.data import DataLoader\n",
    "import torch\n",
    "import evaluate\n",
    "from tqdm import tqdm\n",
    "from PIL import Image\n",
    "import matplotlib.pyplot as plt\n",
    "import random\n",
    "import torch"
   ]
  },
  {
   "cell_type": "code",
   "execution_count": 6,
   "id": "2e8e7305",
   "metadata": {},
   "outputs": [],
   "source": [
    "#!pip install transformers datasets evaluate torchvision huggingface_hub --quiet"
   ]
  },
  {
   "cell_type": "markdown",
   "id": "d2bc0da3",
   "metadata": {},
   "source": [
    "## 2. Inloggen bij Hugging Face\n",
    "\n",
    "Om toegang te krijgen tot bepaalde datasets en modellen op het Hugging Face platform is authenticatie vereist. We loggen daarom in met een persoonlijk access token. Het token wordt via getpass ingevoerd zodat het niet zichtbaar is in het notebook. Dit verhoogt de veiligheid, vooral wanneer het notebook gedeeld of opgeslagen wordt in de cloud of in een publieke repository. Zonder deze stap kan het laden van beschermde datasets of modellen mislukken."
   ]
  },
  {
   "cell_type": "code",
   "execution_count": 1,
   "id": "f5a66c84",
   "metadata": {},
   "outputs": [
    {
     "name": "stdout",
     "output_type": "stream",
     "text": [
      "Voer je Hugging Face access token in: ········\n"
     ]
    }
   ],
   "source": [
    "# Login zonder token zichtbaar te maken in je notebook\n",
    "token = getpass.getpass(\"Voer je Hugging Face access token in: \")\n",
    "login(token=token)"
   ]
  },
  {
   "cell_type": "markdown",
   "id": "775e499a",
   "metadata": {},
   "source": [
    "## 3. Laden en splitsen van de H&M Fashion Captions dataset\n",
    "\n",
    "We laden de dataset 'tomytjandra/h-and-m-fashion-caption-12k' via Hugging Face. Deze dataset bevat meer dan 12.000 afbeeldingen van kledingstukken met bijbehorende Engelstalige productomschrijvingen. Elke afbeelding is gekoppeld aan één tekstuele beschrijving, wat ideaal is voor het trainen van een image captioning-model in een supervised learning setting.\n",
    "\n",
    "Na het laden splitsen we de dataset in een trainings- en validatieset. Dit doen we met een verhouding van 90% training en 10% validatie, zodat het model geleerd gedrag kan generaliseren naar nieuwe, ongeziene data.\n",
    "\n",
    "Omdat het trainen van grote datasets in Google Colab kan leiden tot geheugenproblemen, beperken we het aantal trainingsvoorbeelden tot 2000 en het aantal validatievoorbeelden tot 300. Deze reductie maakt het mogelijk om het model efficiënt te trainen en evalueren binnen de beperkingen van de beschikbare hardware, zonder daarbij de representativiteit van de data te verliezen."
   ]
  },
  {
   "cell_type": "code",
   "execution_count": null,
   "id": "20818cba",
   "metadata": {},
   "outputs": [],
   "source": [
    "# ChatGPT, 2025, Prompt 1: \"Welke eigenschappen maken een image-text dataset geschikt voor supervised captioning? Hoe bepaal ik een evenwichtige split voor train/test en hoe selecteer ik een subset die past binnen GPU-geheugenlimieten zonder bias te introduceren?\"\n",
    "# Link: https://chatgpt.com/share/6857fc75-3d30-8001-9101-ce0db9d523aa\n",
    "\n",
    "# Gebruik juiste dataset van Hugging Face\n",
    "dataset = load_dataset(\"tomytjandra/h-and-m-fashion-caption-12k\")\n",
    "\n",
    "# Split in train/test\n",
    "dataset = dataset[\"train\"].train_test_split(test_size=0.1)\n",
    "\n",
    "train_dataset = dataset[\"train\"].select(range(2000))  # maximaal 2000 ivm trainingstijd\n",
    "val_dataset = dataset[\"test\"].select(range(300))      "
   ]
  },
  {
   "cell_type": "markdown",
   "id": "787753aa",
   "metadata": {},
   "source": [
    "## 4. Voorbewerking van afbeeldingsdata\n",
    "\n",
    "In deze stap definiëren we een transformatiepipeline voor de afbeeldingen zodat ze geschikt zijn als input voor het Vision Transformer model (ViT). Omdat ViT-modellen alleen werken met afbeeldingen van vaste afmetingen, schalen we alle afbeeldingen naar 224 bij 224 pixels.\n",
    "\n",
    "Daarnaast converteren we elke afbeelding naar een PyTorch-tensor, wat nodig is voor verwerking in het neurale netwerk. Deze stappen zijn verplicht voordat de afbeeldingen als input kunnen worden gebruikt in het encoder-gedeelte van het model. Zonder uniforme grootte en tensorrepresentatie zou het model fouten geven tijdens training of inferentie."
   ]
  },
  {
   "cell_type": "code",
   "execution_count": null,
   "id": "9761cea3",
   "metadata": {},
   "outputs": [],
   "source": [
    "# ChatGPT, 2025, Prompt 1: \"Wat is de invoervereiste qua resolutie en tensorformaat voor ViT-architecturen, en hoe beïnvloeden resizing en normalisatie de performance van visuele encoders? Welke interpolatiemethoden behouden details bij downsampling naar 224x224 pixels?\"\n",
    "# Link: https://chatgpt.com/share/6857fcdf-2fbc-8001-ab19-efdbde61a083\n",
    "# Transformeer afbeeldingen naar inputgrootte voor model\n",
    "image_transform = transforms.Compose([\n",
    "    transforms.Resize((224, 224)),\n",
    "    transforms.ToTensor(),\n",
    "])"
   ]
  },
  {
   "cell_type": "markdown",
   "id": "5e0818f7",
   "metadata": {},
   "source": [
    "## 5. Laden van het voorgetrainde Vision-Text model\n",
    "\n",
    "In deze stap laden we een bestaand encoder-decoder model dat ontworpen is voor image captioning: het model vit-gpt2-image-captioning. Dit model combineert een Vision Transformer (ViT) als encoder en een GPT-2 taalmodel als decoder.\n",
    "\n",
    "De encoder zet de visuele informatie van een afbeelding om in een vectorrepresentatie. Deze representatie wordt vervolgens gebruikt door de decoder om een beschrijvende tekst te genereren. Omdat dit model reeds is voorgetraind op grote datasets met afbeeldings-bijschriftparen, kunnen we het effectief fine-tunen op onze kleinere dataset zonder dat we het model vanaf nul hoeven te trainen. Deze benadering valt onder transfer learning, waarbij eerder verworven kennis van een model wordt toegepast op een nieuwe taak, zoals beschreven door Howard en Ruder (2018).\n",
    "\n",
    "Daarnaast laden we ook de bijbehorende processor, die de afbeeldingen normaliseert en schaalt voordat ze naar het model gaan, en de tokenizer, die captions omzet naar tokens en omgekeerd.\n",
    "\n",
    "Bron:\n",
    "Howard, J., & Ruder, S. (2018). Universal Language Model Fine-tuning for Text Classification. In Proceedings of the 56th Annual Meeting of the Association for Computational Linguistics (pp. 328–339). https://arxiv.org/abs/1801.06146"
   ]
  },
  {
   "cell_type": "code",
   "execution_count": null,
   "id": "35c9a6c8",
   "metadata": {},
   "outputs": [
    {
     "name": "stdout",
     "output_type": "stream",
     "text": [
      "WARNING:tensorflow:From C:\\Users\\aksha\\anaconda3\\Lib\\site-packages\\keras\\src\\losses.py:2976: The name tf.losses.sparse_softmax_cross_entropy is deprecated. Please use tf.compat.v1.losses.sparse_softmax_cross_entropy instead.\n",
      "\n"
     ]
    },
    {
     "name": "stderr",
     "output_type": "stream",
     "text": [
      "Config of the encoder: <class 'transformers.models.vit.modeling_vit.ViTModel'> is overwritten by shared encoder config: ViTConfig {\n",
      "  \"architectures\": [\n",
      "    \"ViTModel\"\n",
      "  ],\n",
      "  \"attention_probs_dropout_prob\": 0.0,\n",
      "  \"encoder_stride\": 16,\n",
      "  \"hidden_act\": \"gelu\",\n",
      "  \"hidden_dropout_prob\": 0.0,\n",
      "  \"hidden_size\": 768,\n",
      "  \"image_size\": 224,\n",
      "  \"initializer_range\": 0.02,\n",
      "  \"intermediate_size\": 3072,\n",
      "  \"layer_norm_eps\": 1e-12,\n",
      "  \"model_type\": \"vit\",\n",
      "  \"num_attention_heads\": 12,\n",
      "  \"num_channels\": 3,\n",
      "  \"num_hidden_layers\": 12,\n",
      "  \"patch_size\": 16,\n",
      "  \"qkv_bias\": true,\n",
      "  \"transformers_version\": \"4.48.2\"\n",
      "}\n",
      "\n",
      "Config of the decoder: <class 'transformers.models.gpt2.modeling_gpt2.GPT2LMHeadModel'> is overwritten by shared decoder config: GPT2Config {\n",
      "  \"activation_function\": \"gelu_new\",\n",
      "  \"add_cross_attention\": true,\n",
      "  \"architectures\": [\n",
      "    \"GPT2LMHeadModel\"\n",
      "  ],\n",
      "  \"attn_pdrop\": 0.1,\n",
      "  \"bos_token_id\": 50256,\n",
      "  \"decoder_start_token_id\": 50256,\n",
      "  \"embd_pdrop\": 0.1,\n",
      "  \"eos_token_id\": 50256,\n",
      "  \"initializer_range\": 0.02,\n",
      "  \"is_decoder\": true,\n",
      "  \"layer_norm_epsilon\": 1e-05,\n",
      "  \"model_type\": \"gpt2\",\n",
      "  \"n_ctx\": 1024,\n",
      "  \"n_embd\": 768,\n",
      "  \"n_head\": 12,\n",
      "  \"n_inner\": null,\n",
      "  \"n_layer\": 12,\n",
      "  \"n_positions\": 1024,\n",
      "  \"pad_token_id\": 50256,\n",
      "  \"reorder_and_upcast_attn\": false,\n",
      "  \"resid_pdrop\": 0.1,\n",
      "  \"scale_attn_by_inverse_layer_idx\": false,\n",
      "  \"scale_attn_weights\": true,\n",
      "  \"summary_activation\": null,\n",
      "  \"summary_first_dropout\": 0.1,\n",
      "  \"summary_proj_to_labels\": true,\n",
      "  \"summary_type\": \"cls_index\",\n",
      "  \"summary_use_proj\": true,\n",
      "  \"task_specific_params\": {\n",
      "    \"text-generation\": {\n",
      "      \"do_sample\": true,\n",
      "      \"max_length\": 50\n",
      "    }\n",
      "  },\n",
      "  \"transformers_version\": \"4.48.2\",\n",
      "  \"use_cache\": true,\n",
      "  \"vocab_size\": 50257\n",
      "}\n",
      "\n"
     ]
    }
   ],
   "source": [
    "# ChatGPT, 2025, Prompt 1: \"Hoe werkt de encoder-decoderarchitectuur van VisionEncoderDecoderModel technisch? Welke interne mechanismen gebruiken ViT en GPT-2 voor cross-modal alignment? Wat zijn de implicaties van shared embeddings en layer freezing bij transfer learning in deze configuratie \"\n",
    "# Link: https://chatgpt.com/share/6857fd3c-7318-8001-8e5b-1636a7bd0163\n",
    "model = VisionEncoderDecoderModel.from_pretrained(\"nlpconnect/vit-gpt2-image-captioning\")\n",
    "processor = ViTImageProcessor.from_pretrained(\"nlpconnect/vit-gpt2-image-captioning\")\n",
    "tokenizer = AutoTokenizer.from_pretrained(\"nlpconnect/vit-gpt2-image-captioning\")"
   ]
  },
  {
   "cell_type": "markdown",
   "id": "574687b7",
   "metadata": {},
   "source": [
    "## 6. Preprocessing per datapunt\n",
    "\n",
    "We definiëren een functie die preprocessing uitvoert op elk individueel datapunt uit de dataset. De afbeelding wordt getransformeerd naar een 224x224 tensor met behulp van de eerder gedefinieerde transformaties.\n",
    "\n",
    "Daarnaast wordt de bijbehorende caption omgezet naar een lijst van tokens met behulp van de tokenizer. De parameter max_length is ingesteld op 32 tokens. Deze waarde is gekozen op basis van verkennend onderzoek: de meeste captions in mode-datasets zijn tussen de 10 en 20 woorden lang. Door iets extra ruimte te laten, vermijden we dat langere captions worden afgekapt, terwijl we toch efficiënt omgaan met padding en rekentijd. Dit sluit aan bij de gemiddelde captionlengtes die zijn waargenomen in het COCO-datasetonderzoek (Lin et al., 2014).\n",
    "\n",
    "De gegenereerde labels bestaan uit integers die overeenkomen met de tokens in de caption. Deze worden tijdens het trainen vergeleken met de voorspellingen van het model.\n",
    "\n",
    "Bron:  \n",
    "Lin, T.-Y., Maire, M., Belongie, S., Hays, J., Perona, P., Ramanan, D., ... & Dollár, P. (2014). Microsoft COCO: Common Objects in Context. *European Conference on Computer Vision (ECCV)*. https://arxiv.org/abs/1405.0312\n",
    "\n"
   ]
  },
  {
   "cell_type": "markdown",
   "id": "aa0bf696",
   "metadata": {},
   "source": [
    "## 7. Preprocessing toepassen en dataset formatteren\n",
    "\n",
    "Met de .map()-functie passen we de preprocessing-functie toe op elk datapunt in zowel de trainings- als validatieset. Deze methode zorgt ervoor dat de afbeeldingen en captions automatisch worden omgezet naar het juiste formaat voor modelinput.\n",
    "\n",
    "Daarna gebruiken we .set_format() om expliciet aan te geven dat we PyTorch-tensors willen gebruiken en welke kolommen daarin nodig zijn. Door de kolommen te beperken tot 'pixel_values' en 'labels' vermijden we onnodige geheugenbelasting, wat cruciaal is bij training op beperkte hardware zoals Google Colab. Deze stap is verplicht om de gegevens correct te kunnen gebruiken in de PyTorch DataLoader in de volgende fase."
   ]
  },
  {
   "cell_type": "code",
   "execution_count": null,
   "id": "2e9bbca5",
   "metadata": {},
   "outputs": [
    {
     "data": {
      "application/vnd.jupyter.widget-view+json": {
       "model_id": "9a03f5e55f724922be6e2b415c6add79",
       "version_major": 2,
       "version_minor": 0
      },
      "text/plain": [
       "Map:   0%|          | 0/2000 [00:00<?, ? examples/s]"
      ]
     },
     "metadata": {},
     "output_type": "display_data"
    },
    {
     "data": {
      "application/vnd.jupyter.widget-view+json": {
       "model_id": "f376bf8ded594a81ab4cd30bf68ebb5a",
       "version_major": 2,
       "version_minor": 0
      },
      "text/plain": [
       "Map:   0%|          | 0/300 [00:00<?, ? examples/s]"
      ]
     },
     "metadata": {},
     "output_type": "display_data"
    }
   ],
   "source": [
    "# ChatGPT, 2025, Prompt 1: \"Hoe tokeniseer ik captiontekst op een manier die consistent is met de decoder van het model? Hoe verhoudt de keuze van max_length (32 tokens) zich tot de gemiddelde informatiedichtheid van productomschrijvingen in natuurlijke taal? Hoe vertaalt dit zich naar sequentielengte versus padding overhead?\"\n",
    "# ChatGPT, 2025, Prompt 2: \"Wat is het voordeel van .map() bij Hugging Face datasets boven for-loops? Hoe behoud ik efficiëntie bij gelijktijdige beeld- en tekstverwerking, en waarom moet ik de dataset herformateren naar een PyTorch-compatibele structuur met gespecificeerde kolommen (zoals pixel_values, labels)?\"\n",
    "# Link: https://chatgpt.com/share/6857fdd3-5518-8001-b6bd-ed3fd9c0cd75\n",
    "\n",
    "max_length = 32\n",
    "\n",
    "def preprocess(example):\n",
    "    image = image_transform(example[\"image\"])\n",
    "    caption = example[\"text\"]\n",
    "    labels = tokenizer(caption, padding=\"max_length\", truncation=True, max_length=max_length).input_ids\n",
    "    return {\"pixel_values\": image, \"labels\": labels}\n",
    "\n",
    "train_dataset = train_dataset.map(preprocess)\n",
    "val_dataset = val_dataset.map(preprocess)\n",
    "\n",
    "train_dataset.set_format(type=\"torch\", columns=[\"pixel_values\", \"labels\"])\n",
    "val_dataset.set_format(type=\"torch\", columns=[\"pixel_values\", \"labels\"])"
   ]
  },
  {
   "cell_type": "markdown",
   "id": "ec127329",
   "metadata": {},
   "source": [
    "## 8. Train en validatie DataLoaders\n",
    "\n",
    "We gebruiken PyTorch's DataLoader om de voorbewerkte datasets in batches aan het model aan te bieden. Een batchgrootte van 8 is gekozen als een praktische balans tussen rekensnelheid en het beschikbare geheugen in Google Colab. Een te grote batchgrootte kan leiden tot geheugenfouten, terwijl een te kleine batch de training aanzienlijk vertraagt.\n",
    "\n",
    "De trainingsset wordt geshuffeld om te voorkomen dat het model leert op basis van de volgorde van de data. Door shuffling krijgt het model steeds andere combinaties van voorbeelden te zien, wat overfitting tegengaat en de generalisatie verbetert.\n",
    "\n",
    "Voor de validatieset wordt geen shuffling toegepast, zodat de evaluatie consistent en reproduceerbaar blijft."
   ]
  },
  {
   "cell_type": "code",
   "execution_count": null,
   "id": "203589a9",
   "metadata": {},
   "outputs": [],
   "source": [
    "# ChatGPT, 2025, Prompt 1: \"Wat zijn de geheugeneffecten van het kiezen van een bepaalde batch size in een transformer-gebaseerde captioning pipeline?\"\n",
    "# Link: https://chatgpt.com/share/6857fe34-c27c-8001-8e16-29734fede4c4\n",
    "\n",
    "train_loader = DataLoader(train_dataset, batch_size=8, shuffle=True)\n",
    "val_loader = DataLoader(val_dataset, batch_size=8)"
   ]
  },
  {
   "cell_type": "markdown",
   "id": "a37e598f",
   "metadata": {},
   "source": [
    "## 9. Instellen van optimizer en device\n",
    "\n",
    "In deze stap kiezen we de optimizer en bepalen we op welk apparaat het model wordt getraind. We gebruiken de AdamW-optimizer, een variant van Adam met decoupled weight decay. Deze optimizer wordt vaak toegepast bij het trainen van transformer-gebaseerde modellen omdat het betere generalisatieprestaties oplevert dan standaard Adam. De weight decay voorkomt overfitting door gewichten af te straffen die te groot worden.\n",
    "\n",
    "De learning rate is ingesteld op 5e-5, wat een gangbare waarde is voor het fine-tunen van grote voorgetrainde modellen. Een lagere learning rate voorkomt dat het model abrupt zijn reeds aangeleerde kennis overschrijft, wat belangrijk is bij transfer learning.\n",
    "\n",
    "Het model wordt naar een GPU gestuurd als deze beschikbaar is. Het gebruik van een GPU zorgt voor veel snellere matrixvermenigvuldigingen en trainingsprocessen dan een CPU, vooral bij grote modellen en datasets.\n",
    "\n",
    "Bron:  \n",
    "Loshchilov, I., & Hutter, F. (2019). Decoupled Weight Decay Regularization. *International Conference on Learning Representations (ICLR)*. https://arxiv.org/abs/1711.05101"
   ]
  },
  {
   "cell_type": "code",
   "execution_count": null,
   "id": "cec7d8b0",
   "metadata": {},
   "outputs": [
    {
     "data": {
      "text/plain": [
       "VisionEncoderDecoderModel(\n",
       "  (encoder): ViTModel(\n",
       "    (embeddings): ViTEmbeddings(\n",
       "      (patch_embeddings): ViTPatchEmbeddings(\n",
       "        (projection): Conv2d(3, 768, kernel_size=(16, 16), stride=(16, 16))\n",
       "      )\n",
       "      (dropout): Dropout(p=0.0, inplace=False)\n",
       "    )\n",
       "    (encoder): ViTEncoder(\n",
       "      (layer): ModuleList(\n",
       "        (0-11): 12 x ViTLayer(\n",
       "          (attention): ViTSdpaAttention(\n",
       "            (attention): ViTSdpaSelfAttention(\n",
       "              (query): Linear(in_features=768, out_features=768, bias=True)\n",
       "              (key): Linear(in_features=768, out_features=768, bias=True)\n",
       "              (value): Linear(in_features=768, out_features=768, bias=True)\n",
       "              (dropout): Dropout(p=0.0, inplace=False)\n",
       "            )\n",
       "            (output): ViTSelfOutput(\n",
       "              (dense): Linear(in_features=768, out_features=768, bias=True)\n",
       "              (dropout): Dropout(p=0.0, inplace=False)\n",
       "            )\n",
       "          )\n",
       "          (intermediate): ViTIntermediate(\n",
       "            (dense): Linear(in_features=768, out_features=3072, bias=True)\n",
       "            (intermediate_act_fn): GELUActivation()\n",
       "          )\n",
       "          (output): ViTOutput(\n",
       "            (dense): Linear(in_features=3072, out_features=768, bias=True)\n",
       "            (dropout): Dropout(p=0.0, inplace=False)\n",
       "          )\n",
       "          (layernorm_before): LayerNorm((768,), eps=1e-12, elementwise_affine=True)\n",
       "          (layernorm_after): LayerNorm((768,), eps=1e-12, elementwise_affine=True)\n",
       "        )\n",
       "      )\n",
       "    )\n",
       "    (layernorm): LayerNorm((768,), eps=1e-12, elementwise_affine=True)\n",
       "    (pooler): ViTPooler(\n",
       "      (dense): Linear(in_features=768, out_features=768, bias=True)\n",
       "      (activation): Tanh()\n",
       "    )\n",
       "  )\n",
       "  (decoder): GPT2LMHeadModel(\n",
       "    (transformer): GPT2Model(\n",
       "      (wte): Embedding(50257, 768)\n",
       "      (wpe): Embedding(1024, 768)\n",
       "      (drop): Dropout(p=0.1, inplace=False)\n",
       "      (h): ModuleList(\n",
       "        (0-11): 12 x GPT2Block(\n",
       "          (ln_1): LayerNorm((768,), eps=1e-05, elementwise_affine=True)\n",
       "          (attn): GPT2Attention(\n",
       "            (c_attn): Conv1D(nf=2304, nx=768)\n",
       "            (c_proj): Conv1D(nf=768, nx=768)\n",
       "            (attn_dropout): Dropout(p=0.1, inplace=False)\n",
       "            (resid_dropout): Dropout(p=0.1, inplace=False)\n",
       "          )\n",
       "          (ln_2): LayerNorm((768,), eps=1e-05, elementwise_affine=True)\n",
       "          (crossattention): GPT2Attention(\n",
       "            (c_attn): Conv1D(nf=1536, nx=768)\n",
       "            (q_attn): Conv1D(nf=768, nx=768)\n",
       "            (c_proj): Conv1D(nf=768, nx=768)\n",
       "            (attn_dropout): Dropout(p=0.1, inplace=False)\n",
       "            (resid_dropout): Dropout(p=0.1, inplace=False)\n",
       "          )\n",
       "          (ln_cross_attn): LayerNorm((768,), eps=1e-05, elementwise_affine=True)\n",
       "          (mlp): GPT2MLP(\n",
       "            (c_fc): Conv1D(nf=3072, nx=768)\n",
       "            (c_proj): Conv1D(nf=768, nx=3072)\n",
       "            (act): NewGELUActivation()\n",
       "            (dropout): Dropout(p=0.1, inplace=False)\n",
       "          )\n",
       "        )\n",
       "      )\n",
       "      (ln_f): LayerNorm((768,), eps=1e-05, elementwise_affine=True)\n",
       "    )\n",
       "    (lm_head): Linear(in_features=768, out_features=50257, bias=False)\n",
       "  )\n",
       ")"
      ]
     },
     "execution_count": 7,
     "metadata": {},
     "output_type": "execute_result"
    }
   ],
   "source": [
    "# ChatGPT, 2025, Prompt 1:Wat is het effect van weight decay in AdamW op het minimaliseren van loss zonder overfitting? Hoe verschilt decoupled weight decay mathematisch van traditionele L2-regularisatie? Waarom is een learning rate van 5e-5 stabiel bij fine-tuning van modellen met LayerNorm en Attention?\n",
    "# Link: https://chatgpt.com/share/6857fe7c-9edc-8001-92c7-66a581483367\n",
    "\n",
    "optimizer = torch.optim.AdamW(model.parameters(), lr=5e-5)\n",
    "device = torch.device(\"cuda\" if torch.cuda.is_available() else \"cpu\")\n",
    "model.to(device)"
   ]
  },
  {
   "cell_type": "markdown",
   "id": "14d1815a",
   "metadata": {},
   "source": [
    "## 10. Model trainen en evalueren met BLEU-score\n",
    "\n",
    "In deze stap trainen we het image captioning-model in meerdere rondes (epochs) en evalueren we het model na elke epoch met behulp van de BLEU-score.\n",
    "\n",
    "Tijdens training voorspelt het model een reeks woorden (tokens) op basis van de afbeelding. De fout tussen voorspelling en de echte caption wordt gemeten met de CrossEntropyLoss. Deze lossfunctie vergelijkt de gegenereerde tokens met de echte tokens op elke tijdstap.\n",
    "\n",
    "De formule voor Cross-Entropy Loss is:\n",
    "\n",
    "![CrossEntropyLoss](https://latex.codecogs.com/png.image?\\dpi{150}&space;L&space;=&space;-&space;\\sum_{i=1}^{N}&space;y_i&space;\\cdot&space;\\log(p_i))\n",
    "\n",
    "waarbij:\n",
    "- yᵢ = correcte waarde voor token i (one-hot encoded),\n",
    "- pᵢ = voorspelde kans voor token i.\n",
    "\n",
    "Een lagere loss betekent dat het model dichter bij de juiste output zit.\n",
    "\n",
    "### Evaluatie met BLEU\n",
    "\n",
    "Na elke epoch evalueren we de gegenereerde captions met de BLEU-score. BLEU (Bilingual Evaluation Understudy) vergelijkt n-grammen (reeksen van 1 t/m 4 woorden) van de gegenereerde caption met die van de referentiecaption.\n",
    "\n",
    "De BLEU-score wordt als volgt berekend:\n",
    "\n",
    "![BLEU-score](https://latex.codecogs.com/png.image?\\dpi{150}&space;BLEU&space;=&space;BP&space;\\cdot&space;\\exp\\left(\\sum_{n=1}^N&space;w_n&space;\\cdot&space;\\log(p_n)\\right))\n",
    "\n",
    "waarbij:\n",
    "- pₙ = de n-gram precisie voor n=1..4,\n",
    "- wₙ = het gewicht van elke n-gram (vaak 1/4),\n",
    "- BP = brevity penalty.\n",
    "\n",
    "De brevity penalty wordt toegepast om te korte zinnen te bestraffen:\n",
    "\n",
    "![BrevityPenalty](https://latex.codecogs.com/png.image?\\dpi{150}&space;BP&space;=&space;\\begin{cases}1&space;&,&space;c&space;>&space;r\\\\\\exp\\left(1&space;-&space;\\frac{r}{c}\\right)&space;&,&space;c&space;\\leq&space;r\\end{cases})\n",
    "\n",
    "waarbij:\n",
    "- c = lengte van de gegenereerde caption,\n",
    "- r = lengte van de referentiecaption.\n",
    "\n",
    "Een BLEU-score van 1.0 betekent een perfecte match. In de praktijk zijn scores tussen 0.2 en 0.5 gebruikelijk voor captioningmodellen. Door BLEU te gebruiken kunnen we objectief meten hoe goed het model inhoudelijk en taalkundig overeenkomt met de referentiecaption."
   ]
  },
  {
   "cell_type": "code",
   "execution_count": null,
   "id": "32a355cc",
   "metadata": {},
   "outputs": [
    {
     "name": "stderr",
     "output_type": "stream",
     "text": [
      "Training epoch 1:   0%|                                                                        | 0/250 [00:00<?, ?it/s]We strongly recommend passing in an `attention_mask` since your input_ids may be padded. See https://huggingface.co/docs/transformers/troubleshooting#incorrect-output-when-padding-tokens-arent-masked.\n",
      "You may ignore this warning if your `pad_token_id` (50256) is identical to the `bos_token_id` (50256), `eos_token_id` (50256), or the `sep_token_id` (None), and your input is not padded.\n",
      "Training epoch 1: 100%|██████████████████████████████████████████████████████████████| 250/250 [24:35<00:00,  5.90s/it]\n"
     ]
    },
    {
     "name": "stdout",
     "output_type": "stream",
     "text": [
      "Epoch 1 loss: 2.2418\n"
     ]
    },
    {
     "name": "stderr",
     "output_type": "stream",
     "text": [
      "Validatie epoch 1:   0%|                                                                        | 0/38 [00:00<?, ?it/s]The attention mask is not set and cannot be inferred from input because pad token is same as eos token. As a consequence, you may observe unexpected behavior. Please pass your input's `attention_mask` to obtain reliable results.\n",
      "Validatie epoch 1: 100%|███████████████████████████████████████████████████████████████| 38/38 [06:07<00:00,  9.66s/it]\n"
     ]
    },
    {
     "name": "stdout",
     "output_type": "stream",
     "text": [
      "BLEU score (epoch 1): 0.1513\n"
     ]
    },
    {
     "name": "stderr",
     "output_type": "stream",
     "text": [
      "Training epoch 2: 100%|██████████████████████████████████████████████████████████████| 250/250 [21:39<00:00,  5.20s/it]\n"
     ]
    },
    {
     "name": "stdout",
     "output_type": "stream",
     "text": [
      "Epoch 2 loss: 1.4666\n"
     ]
    },
    {
     "name": "stderr",
     "output_type": "stream",
     "text": [
      "Validatie epoch 2: 100%|███████████████████████████████████████████████████████████████| 38/38 [05:27<00:00,  8.61s/it]\n"
     ]
    },
    {
     "name": "stdout",
     "output_type": "stream",
     "text": [
      "BLEU score (epoch 2): 0.1816\n"
     ]
    },
    {
     "name": "stderr",
     "output_type": "stream",
     "text": [
      "Training epoch 3: 100%|██████████████████████████████████████████████████████████████| 250/250 [19:39<00:00,  4.72s/it]\n"
     ]
    },
    {
     "name": "stdout",
     "output_type": "stream",
     "text": [
      "Epoch 3 loss: 1.2313\n"
     ]
    },
    {
     "name": "stderr",
     "output_type": "stream",
     "text": [
      "Validatie epoch 3: 100%|███████████████████████████████████████████████████████████████| 38/38 [04:27<00:00,  7.04s/it]"
     ]
    },
    {
     "name": "stdout",
     "output_type": "stream",
     "text": [
      "BLEU score (epoch 3): 0.1975\n"
     ]
    },
    {
     "name": "stderr",
     "output_type": "stream",
     "text": [
      "\n"
     ]
    }
   ],
   "source": [
    "# ChatGPT, 2025, Prompt 1: \"Hoe werkt de generate() methode bij VisionEncoderDecoderModel intern (greedy search, beam search)? Wat is de rol van cross entropy loss bij decoder training, en hoe worden logits gebruikt bij token sampling? Hoe wordt BLEU score gedefinieerd in termen van n-gram precisie, en welke gewichten gelden voor unigram t/m 4-gram evaluatie?\"\n",
    "# Link: https://chatgpt.com/share/6857fed7-60f8-8001-82e6-bb6fc6c10c8b\n",
    "bleu = evaluate.load(\"bleu\")\n",
    "num_epochs = 3\n",
    "\n",
    "for epoch in range(num_epochs):\n",
    "    model.train()\n",
    "    total_loss = 0\n",
    "    for batch in tqdm(train_loader, desc=f\"Training epoch {epoch+1}\"):\n",
    "        pixel_values = batch[\"pixel_values\"].to(device)\n",
    "        labels = batch[\"labels\"].to(device)\n",
    "        outputs = model(pixel_values=pixel_values, labels=labels)\n",
    "        loss = outputs.loss\n",
    "        loss.backward()\n",
    "        optimizer.step()\n",
    "        optimizer.zero_grad()\n",
    "        total_loss += loss.item()\n",
    "    print(f\"Epoch {epoch+1} loss: {total_loss / len(train_loader):.4f}\")\n",
    "\n",
    "    # Validatie met BLEU \n",
    "    model.eval()\n",
    "    preds, refs = [], []\n",
    "    for batch in tqdm(val_loader, desc=f\"Validatie epoch {epoch+1}\"):\n",
    "        pixel_values = batch[\"pixel_values\"].to(device)\n",
    "        with torch.no_grad():\n",
    "            generated_ids = model.generate(pixel_values, max_length=max_length)\n",
    "        decoded_preds = tokenizer.batch_decode(generated_ids, skip_special_tokens=True)\n",
    "        decoded_labels = tokenizer.batch_decode(batch[\"labels\"], skip_special_tokens=True)\n",
    "\n",
    "        preds.extend(decoded_preds)\n",
    "        refs.extend([[ref] for ref in decoded_labels])\n",
    "\n",
    "    bleu_score = bleu.compute(predictions=preds, references=refs)\n",
    "    print(f\"BLEU score (epoch {epoch+1}): {bleu_score['bleu']:.4f}\")"
   ]
  },
  {
   "cell_type": "markdown",
   "id": "d7b5e9ac",
   "metadata": {},
   "source": [
    "## 11. Caption genereren op basis van nieuwe afbeelding\n",
    "\n",
    "Deze functie laat het model een caption genereren op basis van een nieuwe afbeelding. De afbeelding wordt eerst op dezelfde manier getransformeerd als tijdens de training, waarna het model de tokens genereert met behulp van beam search of greedy decoding.\n",
    "\n",
    "Dit simuleert hoe het model in de praktijk gebruikt zou worden: een gebruiker voert een afbeelding in en ontvangt automatisch een tekstuele beschrijving. De caption wordt gegenereerd door de decoder op basis van de beeldrepresentatie van de encoder.\n",
    "\n",
    "Deze stap toont aan of het model daadwerkelijk in staat is om betekenisvolle zinnen te vormen die visueel relevante informatie bevatten."
   ]
  },
  {
   "cell_type": "markdown",
   "id": "98c20566",
   "metadata": {},
   "source": [
    "## 12. Vergelijking tussen gegenereerde en echte caption\n",
    "\n",
    "In deze stap selecteren we willekeurig een voorbeeld uit de validatieset en tonen we de afbeelding samen met de door het model gegenereerde caption en de originele referentie-caption.\n",
    "\n",
    "Door deze visuele vergelijking te maken krijgen we niet alleen inzicht in de BLEU-score of loss, maar zien we ook hoe goed het model inhoudelijk de afbeelding heeft geïnterpreteerd. Dit is belangrijk voor menselijke evaluatie: een caption kan grammaticaal correct zijn, maar inhoudelijk niet overeenkomen met wat er op de afbeelding staat.\n",
    "\n",
    "Deze vergelijking ondersteunt dus de kwalitatieve beoordeling van het model en is essentieel bij toepassingen zoals e-commerce, waar correcte beschrijvingen van kleding belangrijk zijn voor gebruikerservaring.\n"
   ]
  },
  {
   "cell_type": "code",
   "execution_count": null,
   "id": "52e41aac",
   "metadata": {},
   "outputs": [
    {
     "data": {
      "image/png": "[encoded data removed]",
      "text/plain": [
       "<Figure size 640x480 with 1 Axes>"
      ]
     },
     "metadata": {},
     "output_type": "display_data"
    },
    {
     "name": "stdout",
     "output_type": "stream",
     "text": [
      "Model-caption    : solid black short straight-cut coat in a soft wool blend with a collar concealed press-studs down the front and a detachable tie belt at the\n",
      "Originele caption: solid black calf-length coat in woven fabric with notch lapels concealed press-studs down the front discreet pockets in the side seams and long slightly wider raglan sleeves lined\n"
     ]
    }
   ],
   "source": [
    "# ChatGPT, 2025, Prompt 1: \"Hoe wordt een afbeelding op inference-structuurniveau verwerkt door ViT naar tekst door GPT-2 binnen een encoder-decoder-architectuur? \"\n",
    "# ChatGPT, 2025, Prompt 2: \"Hoe valideer ik de generalisatiecapaciteit van mijn model visueel en semantisch? Wat is het belang van directe vergelijking tussen modeloutput en referentiecaption, en hoe ondersteun ik die beoordeling kwalitatief naast metrische scores?\"\n",
    "# Link: https://chatgpt.com/share/6857ff63-c0b8-8001-8825-938ed388da3f\n",
    "\n",
    "def generate_caption(image_pil):\n",
    "    image_tensor = image_transform(image_pil).unsqueeze(0).to(device)\n",
    "    with torch.no_grad():\n",
    "        generated_ids = model.generate(image_tensor, max_length=max_length)\n",
    "    caption = tokenizer.decode(generated_ids[0], skip_special_tokens=True)\n",
    "    return caption\n",
    "\n",
    "# Reset tijdelijk format om toegang te krijgen tot 'text'\n",
    "val_dataset.reset_format()\n",
    "\n",
    "# Random index\n",
    "random_index = random.randint(0, len(val_dataset) - 1)\n",
    "example = val_dataset[random_index]\n",
    "\n",
    "true_caption = example[\"text\"]\n",
    "\n",
    "# Zet list -> tensor -> PIL\n",
    "img_tensor = torch.tensor(example[\"pixel_values\"])\n",
    "img_pil = transforms.ToPILImage()(img_tensor)\n",
    "\n",
    "# Genereer caption\n",
    "generated_caption = generate_caption(img_pil)\n",
    "\n",
    "# Toon afbeelding + resultaten\n",
    "plt.imshow(img_pil)\n",
    "plt.axis(\"off\")\n",
    "plt.title(\"Caption vergelijking\", fontsize=14)\n",
    "plt.show()\n",
    "\n",
    "print(f\"Model-caption    : {generated_caption}\")\n",
    "print(f\"Originele caption: {true_caption}\")\n",
    "\n",
    "# Zet format terug voor training\n",
    "val_dataset.set_format(type=\"torch\", columns=[\"pixel_values\", \"labels\"])"
   ]
  },
  {
   "cell_type": "markdown",
   "id": "ddc75beb",
   "metadata": {},
   "source": [
    "## Samenvatting van gekozen instellingen en onderbouwing\n",
    "\n",
    "| Hyperparameter / Instelling     | Gekozen waarde     | Onderbouwing                                                                                                   |\n",
    "|----------------------------------|---------------------|------------------------------------------------------------------------------------------------------------------|\n",
    "| **max_length**                   | 32                  | Captions in de dataset zijn gemiddeld 10–20 tokens lang. 32 biedt ruimte zonder overmatig padden. Gebaseerd op analyses van COCO-captionlengtes. |\n",
    "| **batch_size**                  | 8                   | Te grote batches veroorzaken geheugenproblemen in Colab. 8 biedt balans tussen performance en stabiliteit.     |\n",
    "| **learning_rate**               | 5e-5                | Kleine waarde voorkomt dat het voorgetrainde model zijn kennis verliest (catastrofaal vergeten). Aanbevolen voor transformer fine-tuning. |\n",
    "| **num_epochs**                  | 3                   | Voldoende om op kleine subset convergence te bereiken zonder overfitting. Training is stabiel en efficiënt.     |\n",
    "| **optimizer**                   | AdamW               | Werkt beter dan Adam in combinatie met weight decay (betere generalisatie). Gebaseerd op literatuur (Loshchilov & Hutter, 2019). |\n",
    "| **model**                       | ViT-GPT2 (nlpconnect/vit-gpt2-image-captioning) | Pre-trained encoder-decoder model specifiek ontwikkeld voor image captioning. Werkt direct met beelden en genereert natuurlijke taal. |\n",
    "| **dataset**                     | H&M Captions (Hugging Face) | Dataset bevat realistische productomschrijvingen voor mode. Perfect voor fine-tuning op beeld-bijschrift taken. |\n",
    "| **eval-metriek**                | BLEU (1–4 gram)     | Standaardmaat voor automatische tekstgeneratie. Meet overlap tussen gegenereerde tekst en referentiecaption.   |\n",
    "| **datasplitsing**              | 2000 training / 300 validatie | Om geheugenverbruik in Colab te beperken én het model toch effectief te trainen en valideren.                 |"
   ]
  }
 ],
 "metadata": {
  "kernelspec": {
   "display_name": "Python 3 (ipykernel)",
   "language": "python",
   "name": "python3"
  },
  "language_info": {
   "codemirror_mode": {
    "name": "ipython",
    "version": 3
   },
   "file_extension": ".py",
   "mimetype": "text/x-python",
   "name": "python",
   "nbconvert_exporter": "python",
   "pygments_lexer": "ipython3",
   "version": "3.11.4"
  }
 },
 "nbformat": 4,
 "nbformat_minor": 5
}
